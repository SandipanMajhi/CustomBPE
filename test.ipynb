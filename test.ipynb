{
 "cells": [
  {
   "cell_type": "code",
   "execution_count": 1,
   "metadata": {},
   "outputs": [],
   "source": [
    "from Model.BPE import BERTTokenizer"
   ]
  },
  {
   "cell_type": "code",
   "execution_count": 2,
   "metadata": {},
   "outputs": [],
   "source": [
    "t = \"From: sandipan.majhi.email@gmail.com\"\n",
    "bpe = BERTTokenizer(is_train=False)"
   ]
  },
  {
   "cell_type": "code",
   "execution_count": 3,
   "metadata": {},
   "outputs": [
    {
     "data": {
      "text/plain": [
       "[256,\n",
       " 70,\n",
       " 610,\n",
       " 109,\n",
       " 58,\n",
       " 2720,\n",
       " 134605,\n",
       " 25522,\n",
       " 46,\n",
       " 12382,\n",
       " 106,\n",
       " 299,\n",
       " 46,\n",
       " 494,\n",
       " 17968,\n",
       " 108,\n",
       " 64,\n",
       " 103,\n",
       " 12382,\n",
       " 1807,\n",
       " 49936]"
      ]
     },
     "execution_count": 3,
     "metadata": {},
     "output_type": "execute_result"
    }
   ],
   "source": [
    "bpe.encode(t)"
   ]
  },
  {
   "cell_type": "code",
   "execution_count": 4,
   "metadata": {},
   "outputs": [
    {
     "data": {
      "text/plain": [
       "'From: sandipan.majhi.email@gmail.com'"
      ]
     },
     "execution_count": 4,
     "metadata": {},
     "output_type": "execute_result"
    }
   ],
   "source": [
    "bpe.decode([256,\n",
    " 70,\n",
    " 610,\n",
    " 109,\n",
    " 58,\n",
    " 2720,\n",
    " 134605,\n",
    " 25522,\n",
    " 46,\n",
    " 12382,\n",
    " 106,\n",
    " 299,\n",
    " 46,\n",
    " 494,\n",
    " 17968,\n",
    " 108,\n",
    " 64,\n",
    " 103,\n",
    " 12382,\n",
    " 1807,\n",
    " 49936])"
   ]
  },
  {
   "cell_type": "code",
   "execution_count": 5,
   "metadata": {},
   "outputs": [
    {
     "name": "stdout",
     "output_type": "stream",
     "text": [
      "[5, 12, 2]\n"
     ]
    },
    {
     "data": {
      "text/plain": [
       "[256,\n",
       " 70,\n",
       " 258,\n",
       " 109,\n",
       " 58,\n",
       " 258,\n",
       " 134605,\n",
       " 25522,\n",
       " 46,\n",
       " 12382,\n",
       " 106,\n",
       " 299,\n",
       " 258,\n",
       " 494,\n",
       " 17968,\n",
       " 108,\n",
       " 64,\n",
       " 103,\n",
       " 12382,\n",
       " 1807,\n",
       " 49936]"
      ]
     },
     "execution_count": 5,
     "metadata": {},
     "output_type": "execute_result"
    }
   ],
   "source": [
    "bpe.prepare_mlm_seq(text=t, mask_rate=0.15)"
   ]
  },
  {
   "cell_type": "code",
   "execution_count": 6,
   "metadata": {},
   "outputs": [
    {
     "data": {
      "text/plain": [
       "'F<MASK>m:<MASK>dipan.majhi<MASK>email@gmail.com'"
      ]
     },
     "execution_count": 6,
     "metadata": {},
     "output_type": "execute_result"
    }
   ],
   "source": [
    "bpe.decode([256,\n",
    " 70,\n",
    " 258,\n",
    " 109,\n",
    " 58,\n",
    " 258,\n",
    " 134605,\n",
    " 25522,\n",
    " 46,\n",
    " 12382,\n",
    " 106,\n",
    " 299,\n",
    " 258,\n",
    " 494,\n",
    " 17968,\n",
    " 108,\n",
    " 64,\n",
    " 103,\n",
    " 12382,\n",
    " 1807,\n",
    " 49936])"
   ]
  },
  {
   "cell_type": "code",
   "execution_count": null,
   "metadata": {},
   "outputs": [],
   "source": []
  }
 ],
 "metadata": {
  "kernelspec": {
   "display_name": "bpe",
   "language": "python",
   "name": "python3"
  },
  "language_info": {
   "codemirror_mode": {
    "name": "ipython",
    "version": 3
   },
   "file_extension": ".py",
   "mimetype": "text/x-python",
   "name": "python",
   "nbconvert_exporter": "python",
   "pygments_lexer": "ipython3",
   "version": "3.13.2"
  }
 },
 "nbformat": 4,
 "nbformat_minor": 2
}
