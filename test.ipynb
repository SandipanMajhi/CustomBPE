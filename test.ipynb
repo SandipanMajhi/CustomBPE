{
 "cells": [
  {
   "cell_type": "code",
   "execution_count": null,
   "metadata": {},
   "outputs": [],
   "source": [
    "from Model.BPE import CustomBPE"
   ]
  },
  {
   "cell_type": "code",
   "execution_count": 2,
   "metadata": {},
   "outputs": [],
   "source": [
    "text = \"bahijafi\\nqudbubf iqbf qifninf\""
   ]
  },
  {
   "cell_type": "code",
   "execution_count": 3,
   "metadata": {},
   "outputs": [],
   "source": [
    "bpe_model = CustomBPE()"
   ]
  },
  {
   "cell_type": "code",
   "execution_count": 4,
   "metadata": {},
   "outputs": [],
   "source": [
    "# bpe_model.train(text=text, vocab_size=30)"
   ]
  },
  {
   "cell_type": "code",
   "execution_count": 5,
   "metadata": {},
   "outputs": [
    {
     "name": "stdout",
     "output_type": "stream",
     "text": [
      "['bahijafi', '\\n', '#qudbubf', '#iqbf', '#qifninf']\n"
     ]
    }
   ],
   "source": [
    "bpe_model.encode(text)"
   ]
  },
  {
   "cell_type": "code",
   "execution_count": 1,
   "metadata": {},
   "outputs": [],
   "source": [
    "import pandas as pd"
   ]
  },
  {
   "cell_type": "code",
   "execution_count": 2,
   "metadata": {},
   "outputs": [],
   "source": [
    "data = pd.read_csv(\"Data/BookCorpus3.csv\")"
   ]
  },
  {
   "cell_type": "code",
   "execution_count": 3,
   "metadata": {},
   "outputs": [],
   "source": [
    "t = [data.iloc[i,0] for i in range(100)]"
   ]
  },
  {
   "cell_type": "code",
   "execution_count": 5,
   "metadata": {},
   "outputs": [
    {
     "data": {
      "text/plain": [
       "\"she began getting up first thing in the morning. she wanted to avoid konnor and his irrational fear at having her leave him alone in the house. she'd fix a quick bite to eat for both of them, leave konnor's on the table, and then she went to dress for the day. caitrin hid the fact that she was a woman behind bulky clothes. her jeans were loose. she tucked the cuffs into the expensive hiking boots she had obtained during a smash and grab at an outdoor store's window display. she considered strapping down her breasts, and decided against it. a sports bra would have to do. overtop of that went a t shirt and a regular shirt. she added an oversize hoodie. beneath that, a ball cap covered the long hair she kept in a bun whenever she went outside. as hard as it had been for caitrin to convince konnor to let her go, he never seemed to notice her disappearance on those twice weekly excursions. perhaps it was because she went quietly out the door. she stopped saying good bye for fear that it would set him off on one of the ever increasing rants that he was beginning to subject her to. as her treks took her farther afield, she would often be gone all day, almost into darkness. she wouldn't allow herself to be out in the night. at the end of the day, often as late as twilight, she'd arrive home, exhausted, feet sore and back aching from the weight of the huge pack she toted. she knew she was using those two days as an escape from her developing problems with konnor. she spent the time thinking, and she didn't like the one question she kept asking herself. what was she going to do without konnor to help her exist within the confines of the deserted city despite her worries, she continued to enjoy being out of konnor's way. she got to examine parts of the city that she barely knew existed. she was most cheerful when she passed through the city's parks with their huge shade trees and picnic tables. some of them even had barbecues. it reminded her of what was missing, but she soon chased those thoughts out of her head. she'd tried using a bicycle, but ditched that idea when the heavy pack she carried got the better of her. she had tipped over, and in her clumsiness, knocked herself out when she crashed onto the ground, driven there by the off center weight of the pack. when she came to, she looked around, embarrassed that anyone might have seen her. then she remembered she was all alone. she laughed at her clumsiness, but she walked home rubbing both her head and her ass. for good measure, she added her bruised ego into the mix. konnor's condition worsened, and caitrin began to dread coming home at all. she never knew what mood he'd be in. she knew she was becoming the sole provider when she realized that konnor had stopped going anywhere. more and more, his paranoia was inserting itself into their relationship by turning it into a nightmare for both of them. it was one of the shortcuts that caitrin took on the two days she went out into the world. at first, it was only an eerie feeling that overtook her when she passed through one of her regular neighborhoods on her scavenger hunts. it wasn't the entire neighborhood, but only one small area. she couldn't explain the feeling. as the days and weeks passed and she became more self assured, she decided that someone had to be watching her. she had nothing to go by. she'd never crossed paths with another soul. so why was she so insistent that someone else was there, spying on her she'd already determined to begin paying more attention to her surroundings. she realized she could no longer strut carelessly through the streets and neighborhoods as she had in the past. if there was someone out there, she needed to know about it. her senses went on full alert and she halted at the edge of the cul de sac. nothing looked out of the ordinary. in fact, it looked like every other street she traversed. almost. something wasn't quite right about this one, though. she thought she might start avoiding the area, and then thought better of it. if she was going to become paranoid now, in a city that she was certain was pretty much deserted, she might as well throw in the towel, stay home, and join konnor in his crazy fantasies. nothing looked to be out of the ordinary. however, at second glance, in what seemed to be a random pattern, the curtains in some of the houses were closed. in others, they were open. if memory served her right, in almost every other neighborhood she traveled through, the curtains on almost all of the houses had been left open. people wanted to be witness to the proceedings going on in their neighborhoods. caitrin shook her head, unable to believe what she had allowed to creep into her mind. she resolved to shut it out. at the same time, she lost her concentration. she took a step and her foot slipped off the curb. unbalanced by the heavy load in the huge backpack, she tripped, stumbled and the off balanced weight sent her careening onto a lawn. shock moved through her body and she stiffened. she stayed on the ground, stunned, unable to move a muscle. it wasn't from the weight of the heavy pack on top of her. she lay where she fell and tried not to move. she wanted to turn her head towards the window, but she couldn't. the huge weight of the pack prevented her from getting up. she managed to untangle her arms from the straps. as she did, she pushed the pack away and got up. caitrin made a show of preparing herself for an attempt to pick up the heavy pack. she adjusted the shotgun across her chest. she took her time positioning over the pack. finally, she kneeled and shoved her arms through the straps. she tottered forward and used her legs to lift the full weight off the ground. caitrin couldn't allow herself to give any sign. she had no idea what she was into. first instinct after picking up the heavy pack was to drop it instantly and flee as fast as she could. she might have, too, if her knees weren't trembling so bad she could barely walk with the heavy weight. her breathing quickened into a pant. nervous sweat ran down her back. she couldn't drop the pack and take off as fast as her feet would let her. she wanted to. every fiber in her body called out for her to run. she forced herself to put one foot in front of the other and walk out of the cul de sac and away from the house. what she had seen had already burned itself into her brain. she had to keep on telling herself don't turn around. don't look back. keep moving forward. she thought about what she'd seen all the way home. that someone else was left in the city came as a shock, although it probably shouldn't have. she'd been naive to think she and konnor could be the only ones who chose to hide out and remain behind. during the long, tiresome walk home, caitrin considered her options. a third person would mean an opportunity to come together with her and with konnor to help keep them all alive. that is, if konnor didn't go completely over the deep end. she would have to take time to better assess his condition. even as she considered doing that, she knew she would have problems. when, not if, it came to a choice of sharing a place with a madman or one with an unknown, she thought she should be able to make the decision easily. after all, she was a woman. and women, these days at least, had to be in short supply. caitrin heard the screaming even before she opened the door. she changed her mind and tried to set the pack down just as konnor yanked the door open. he greeted her with a brutal punch to the face. it knocked her backwards down the steps. the heavy pack kept her on the ground. konnor landed on top of her and kept punching. she couldn't get her arms out of the straps. she couldn't block konnor's fists. they rained down on her. with arms trapped, unable to defend herself, she had to take the beating. thanks only to konnor's extreme condition, he soon exhausted himself and rolled away. caitrin's brain went into overtime. in an instant, she made the decision to desert the home she had grown accustomed to. she'd considered it her own since moving in. this would be the last night she would spend in it. as comfortable as it was, as much as she knew the neighborhood, as bad as she wanted to remain with konnor, she knew it was over. her life was worth more than a few possessions and a completely insane man who might end up killing her. that night she locked herself alone in the bedroom. konnor pounded on the door, screaming, kicking, trying to get in. she forced herself to ignore the crazy man he had become. still, she couldn't sleep. when konnor finally quieted from exhaustion, she remained awake, continuing to evaluate what she had seen earlier in the day. she knew what she had to do would be dangerous. she knew too that she had to get as far away from konnor as she could for her own safety. what she wasn't so sure of was whether it would be any safer with the person that had been spying on her walks through the neighborhood. in the beginning, when people were still concentrating on meteorites and six tailed comets and the sun's reversing poles, the general roundups began. everyone with a circular vaccination scar got ordered into refugee centers. the story publicized was that an epidemic had begun on the south american continent and it was progressing north at an alarming rate. at least, that's what the broadcasts repeated. some began murmuring something about fake news reports. fundamentalists picked up the cry, reminding everyone that there had never been a smallpox scare that the scar had to be related to the mark of some sort of beast. i never heard of a circular scar. i looked it up, and learned that it was a mark, all right. left by a scab. before about 1972 or 1974, everyone had to be inoculated against something called smallpox. the resulting scab would give the recipient of the vaccine a small, circular scar for life along with lifetime immunity to the disease. apparently, smallpox had been eradicated from the face of the earth sometime in the 198 s or so the articles said. all the smallpox cultures were to have been destroyed. and also apparent, judging by the disease's advance northwards from south america, it hadn't been. we'd already had something not quite similar occur just before the meteors. it was called measles, and anyone who hadn't been vaccinated against it could catch it and die. many did, for it spread rapidly among the religious freaks and anti vaxer nutbars who had allowed themselves to be talked out of permitting their children to get any immunization shots at all. following the measles epidemic, the government began scouring medical records for the names of people who hadn't had any immunization injections. by then the black vans had been replaced by city busses painted in dark colors with yellow markings to highlight them. i checked my watch. it was time. i raised a corner of the curtain out of the way. nothing. impatient, i pulled it back farther and almost pasted my face to the glass. were anyone looking in, i was sure i resembled a madman looking out. i peered out again. she had to be looking right at me. i felt exposed. vulnerable. how could she not see me should i let go of the curtain should i ignore what i had just seen do i keep looking out panicked, i ran to the door. i slipped the cover and looked out the peephole. she was on the edge of the distorted, narrow field of view. she was just getting up off the ground. she must have stumbled. perhaps from the shock of confirming something where only moments before there had been nothing. i rushed back to the window. i yanked the curtain wide. i pasted a grin on my face and waved. the girl halted, mid step. both feet touched the ground. she turned on a dime and ran off in the direction from which she had come. my disappointment was complete. there was no sense in encouraging anyone else to come calling. i pulled the drapes shut. in the safety of the darkened room, i took my time to evaluate what i witnessed. this time, i managed to get a good look. she was definitely attractive. that's not what i noticed first, though. the first was the weapon. the shotgun, the same one i'd seen her carrying. the double barrels had been shortened. a cut off, to make it easier to handle. to keep a step ahead, i marked the urban pockets of farm animals that people in the city had started to collect and feed before the purge. in time i thought i might be able to gather some of them and move them to an empty arena, or perhaps a small, fenced park where there would be grass. and then thoughts of the woman banished everything from my mind. not thinking about her wasn't going to be so easy. i started to realize the value of having another pair of hands and legs to help accomplish the grunt work. in advance, i located a generator and plenty of power cables, plugs, jacks and conduit. i stored it all in the basement. once i set my mind to it, it took only a day of dedicated effort to restore power to the house. it seemed to me that any improvements in my situation often would lead to more work. gasoline became my next project. i managed to collect an empty 45 gallon drum. over time i managed to fill it and i was good with electricity for a month if i rationed. i'd need more in the long term. i'd need an easier way to get it out of the vehicle fuel tanks, too. it took another four months of roaming the city for me to realize that just about every last soul had been shipped off to somewhere. i stopped looking for anyone to ask where they thought that somewhere might be. i tried reversing our positions. that was when i realized that when i opened the curtain wide, i might as well have been exposing myself in the window as a naked man might. that alone would have scared me to death, too, were i on the outside looking in. i was in the kitchen, going about my normal routine. homemade bread went into the toaster. two eggs ended up in the fry pan. i sliced half of a fresh grown tomato. the smells were killing me and i was thinking how nice it would be to wake up one morning and she made it obvious she was looking for me. i had to wonder, though. the action on the shotgun strung across her chest was still closed. my mind raced. it had to be loaded. two shells. buckshot, maybe. or slugs. didn't matter. either would be fatal. disappointed and filled with despair, i ate quickly. seeing her with that shogun convinced me that i'd need weapons of my own. i checked the doors and the garage. everything was secure. i knew she'd be watching, waiting. she'd want to check the place out when i wasn't here. i looked around. was c, whoever she was, lingering i carefully folded the note and tucked it into my pocket. i hauled everything inside before departing on my mission. by end of day i would have my own shotgun. i was only knowledgeable enough about firearms to make sure they were the same caliber. kicking though the rubble, i discovered a book on how to modify them. i came up with a couple of bandoliers, too. the shotgun shells fit perfectly. by the time i had the trailer loaded with ammo boxes of shot and slugs i was sweating like a pig. i threw my soaked shirt on the trailer and headed for home. by the time i arrived and stowed everything in the garage, i was physically and mentally exhausted. the next day's assignment took me to a hardware store. i picked up a vice and a hacksaw and blades. once home, i read about shortening barrels and went to work with a vengeance. i attached slings and adjusted them across my chest. hell, i even practiced positioning the short barreled pump action in front of me in case i ever needed to use it. who was she was she nearby did she have someone waiting for her when she crossed the threshold of her own home, anxious for her return or was she alone, wandering solo around the city like me when i ran out of questions i was left with only woman's careful script. it was after one of my more successful scrounging expeditions. i turned into the cul de sac and almost dropped the bike. the woman was sitting on my front step. it was too late to pretend to ignore her and turn around. so. the c was for caitrin. i stuck out my hand. caitrin formed a fist and instead, bumped mine. in only a split second her hand had withdrawn. there was no chance to make a grab for it, even if i wanted to. caitrin sat cross legged on the lawn, well away from the open garage door. her sunglasses hung on her neck. she took care to watch my every movement as i unloaded my treasures and hauled them into the garage. the roaring diesel engine noise reverberated off the walls of the empty neighborhood and echoed into the cul de sac. by the time i recognized the sound for what it was, it was almost too late. i scrambled to push my bike into the garage and let the door down without banging. only just in time did i make it inside the house. in my haste, i forgot all about caitrin. the huge truck rounded the corner. it halted in a cloud of black diesel exhaust and squealing brakes at the entrance to the circle of houses. all of a sudden the location i had chosen because of its isolation had been breached in a most uncomfortable way. even so, isolated from the outside by curtains covering windows and doors, i still believed that there was no way i would be discovered. caitrin's backpack sat on the floor in the living room. she kept the shotgun in plain view. a huge k bar hung off of her belt. it was tied to her thigh. the handle had been ground down and would probably just fit her smaller hand. then she wrapped her hand around it, and i knew i was right about that. i tried to lighten the atmosphere by moving to the door. i peered out the peep hole. a single unarmed soldier descended from the truck and consulted a map. he looked down the deserted cul de sac and shook his head. as a last resort he climbed up on the roof and looked around. caitrin gathered up everything she owned and took it with her into the bathroom. i couldn't blame her. i would have too, were i in the same position. when the water stopped running, a familiar, high pitched whine made its way down the hall to the kitchen. while caitrin dried her hair in the bathroom, i considered what had happened during the truck's brief appearance. i wanted to run it by her to get another person's opinion, now that there was another person. not wanting to make it seem as though she was ungrateful, caitrin threw caution to the winds and took the man up on his offer of food. still, she wondered why she said that. it almost sounded as though she meant to come back. i think he was trying not to make it too obvious, but he was checking me out. i left my hat off, knowing how my hair would shine after the shower. he wasn't so bad looking. and she hadn't thought of her shotgun once since sitting down to eat. ever cautious, she allowed me to lead her to the back of the house where i had the generator under it's sound proof cover. i showed her how to start it and to verify that the exhaust vented properly outside. i told her about the blackout curtains, and explained why they should be kept closed. an extra person to help with some projects i had planned would be nice. until now, i never considered having a helper. it might just end up doing us both good. i eased into the subject, hoping i wouldn't be obvious. i was in the process of constructing a solar and battery powered pump. it was necessary to provide the gasoline for the generator. the only way to get more would be to scrounge from the thousands of abandoned vehicles littering the streets. you've been scouting out your own resources. i'm not looking to steal your secrets. i could use a little help with my own. that generator alone will gobble up a lot of fuel when the nights start to get longer and colder. she stuck out her hand and this time she shook mine. i wasn't expecting it. i walked down the narrow hallway to my bedroom. she could sleep anywhere she darn well pleased. i considered, and then i propped a chair against my own door. it turned into a tossup whether i dreamed i could smell coffee or bacon. the hum in the same dream turned out to be the generator at the end of the hall. it was then that i remembered i had company. caitrin must have fired it up for another shower. i threw on a t shirt and a pair of jeans and ventured out, anxious to know what i'd find in the kitchen. i was unprepared for a woman in a short, brightly colored sun dress standing barefoot in front of the stove. while i waited i stretched out on the sofa. my eyes closed for what i thought was only a minute. i awoke to caitrin standing over me. the shotgun's barrel poked and jabbed. startled, i jumped up, almost knocking her over. caitrin was dressed for the hunt. the k bar was back in place on her belt. the double barreled shotgun lay across her front, breach open. the strap crossed between her breasts, emphasizing them. i tried not to stare for too long. i tried not to wonder if it was on purpose. i was. yesterday was quite a shock to my system. you showed yourself and it wasn't to eat breakfast in my cul de sac. our visitor at the end of the street didn't help matters. today will be a better day. with two of us to do the work, i'd be able to cover a lot more ground than i would by myself. i explained the collapsible dipstick, the paint can and the markings to be left on each vehicle we'd be checking. the extra weight of a passenger, even one as light as caitrin, slowed the pace of the electric bike, but not by much. at the first car i showed her how to break open the cover and slide the measuring stick into the gas tank. she marked the fuel door to indicate how much remained, and then we'd move on to the next. once she had the hang of it, we split up and covered twice the territory. we'd meet back at the intersection where we started, and i'd mark the map with the separate routes we took and the quantities of fuel left behind. before long, i was riding ahead to open a line of tanks for her. she'd walk the line, measure and cap and then mark the results. we did about a hundred cars and trucks and discovered more fuel than i had storage for. the day left me with plenty to think about. it had been a huge shock to come upon caitrin waiting patiently at my door. when the truck arrived and she disappeared, i thought she left for good. that she took her chances and ran indoors to avoid detection shocked me. once home, i unlocked the door and went around checking that the curtains were closed before firing up the generator. the doors to the closet in my bedroom were open. caitrin's bright, cheery dress hung on a hanger. i couldn't stop smiling as i washed off the day's accumulated grime. i put a potato in the oven and threw some chicken into a batch of spices before putting it on the hotplate to simmer. just for fun i checked my watch and set the time on the microwave before stretching out on the sofa. the explosions in my dream turned into pounding. something was pounding on the roof. wait. no. not the roof. confused, i rolled over and fell off the sofa. it woke me just enough to recognize the sound. she couldn't talk. she couldn't catch her breath. huffing and puffing, she must have ran all the way from her place. i left her to calm down and regain a semblance of sanity while i went to check on dinner. she followed, and watched carefully while i set another place at the table. caitrin paced back and forth between the kitchen and the hallway. i let her go on until she slowed and began to catch her breath. the look of panic began to morph into one of relief. i convinced her to sit in front of my plate while i pretended to ignore her by putting another potato in the microwave. she worked the bandolier over her head in silence. she slid the plate out of the way and replaced it with her shotgun. the breach was closed. i didn't ask if it was loaded. i figured, given the circumstances, that a measure of trust might be in order. moving like an automaton, she disappeared down the hall. she left or maybe she forgot her shotgun on the table. perhaps after our day together she had developed a measure of trust. water splashed in the bathroom. she returned looking refreshed. her hand covered the handle of the knife on her belt. i sat across from her, and it looked like she was going to follow my lead. she took two bites of dessert, and then hesitated over the third. the fork clattered onto the plate as her words tumbled out in a mad rush. i listened, mouth agape, and put down my own fork. she approached her place as she always did. cautious. on the lookout for anything and everything. all of her watch out signs and warnings were in place. none had been disturbed. no one had violated her privacy. no one, that is, until she unlocked her door and walked into the mess that up to then had been her fortress. disarray greeted her. contents of cupboards lay scattered on the floor. her furniture was cut open and searched. carpet was pulled up. the bedroom was destroyed. she knew, because exposed two by fours stared back from walls stripped of drywall. she didn't take the time to grab anything. instead, she backed out without taking even one more step inside. she locked the door behind her and hot footed it. she zigged and zagged, careful to check if anyone followed. nothing and no one appeared to be following. as she got closer, she began to relax just a bit. when it came time to pound on my door in the dark, she went on heightened alert. caitrin knew i'd be on alert, too. when i opened the door without so much as a word, it shocked her into a panic attack. she knew she'd be safe inside. she had an inkling in the back of her mind that she was taking a chance that i would even go to the door without knowing who was there. it was night, after all. she'd said her goodbye hours ago, in daylight. the story came out in a mad rush of words, hurried, as if she stopped to take a breath she'd forget what came next. i offered up a solution, of sorts. i opened a bottle of brandy and poured a shot. caitrin gulped it down and asked for another. i obliged, and she downed that in an instant, too. i stuck my head around the corner to check on her. eventually, the heat from the fireplace did its job. her feet rested on the coffee table. i covered her with a blanket and sat down beside her. she eased over. her head ended up resting on my shoulder.\""
      ]
     },
     "execution_count": 5,
     "metadata": {},
     "output_type": "execute_result"
    }
   ],
   "source": [
    "\" \".join(t)"
   ]
  },
  {
   "cell_type": "code",
   "execution_count": 19,
   "metadata": {},
   "outputs": [],
   "source": [
    "import pickle as pkl\n",
    "\n",
    "with open(\"Data/bpe_vocab.pkl\", \"rb\") as f:\n",
    "    bpe_ = pkl.load(f)\n",
    "\n",
    "with open(\"Data/bpe_inverse_vocab.pkl\", \"rb\") as f:\n",
    "    inv_ = pkl.load(f)"
   ]
  },
  {
   "cell_type": "code",
   "execution_count": 20,
   "metadata": {},
   "outputs": [
    {
     "data": {
      "text/plain": [
       "100000"
      ]
     },
     "execution_count": 20,
     "metadata": {},
     "output_type": "execute_result"
    }
   ],
   "source": [
    "len(bpe_)"
   ]
  },
  {
   "cell_type": "code",
   "execution_count": 21,
   "metadata": {},
   "outputs": [
    {
     "data": {
      "text/plain": [
       "56433"
      ]
     },
     "execution_count": 21,
     "metadata": {},
     "output_type": "execute_result"
    }
   ],
   "source": [
    "len(inv_)"
   ]
  },
  {
   "cell_type": "code",
   "execution_count": null,
   "metadata": {},
   "outputs": [],
   "source": []
  }
 ],
 "metadata": {
  "kernelspec": {
   "display_name": "bpe",
   "language": "python",
   "name": "python3"
  },
  "language_info": {
   "codemirror_mode": {
    "name": "ipython",
    "version": 3
   },
   "file_extension": ".py",
   "mimetype": "text/x-python",
   "name": "python",
   "nbconvert_exporter": "python",
   "pygments_lexer": "ipython3",
   "version": "3.13.2"
  }
 },
 "nbformat": 4,
 "nbformat_minor": 2
}
