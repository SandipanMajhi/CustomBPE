{
 "cells": [
  {
   "cell_type": "code",
   "execution_count": 148,
   "metadata": {},
   "outputs": [],
   "source": [
    "from Model.BPE import BPEModel"
   ]
  },
  {
   "cell_type": "code",
   "execution_count": 158,
   "metadata": {},
   "outputs": [],
   "source": [
    "t = \"From: sandipan.majhi.email@gmail.com\"\n",
    "bpe = BPEModel(is_train=False)"
   ]
  },
  {
   "cell_type": "code",
   "execution_count": 159,
   "metadata": {},
   "outputs": [
    {
     "data": {
      "text/plain": [
       "[70,\n",
       " 610,\n",
       " 109,\n",
       " 58,\n",
       " 2720,\n",
       " 134605,\n",
       " 25522,\n",
       " 46,\n",
       " 12382,\n",
       " 106,\n",
       " 299,\n",
       " 46,\n",
       " 494,\n",
       " 17968,\n",
       " 108,\n",
       " 64,\n",
       " 103,\n",
       " 12382,\n",
       " 1807,\n",
       " 49936]"
      ]
     },
     "execution_count": 159,
     "metadata": {},
     "output_type": "execute_result"
    }
   ],
   "source": [
    "bpe.encode(t)"
   ]
  },
  {
   "cell_type": "code",
   "execution_count": 160,
   "metadata": {},
   "outputs": [
    {
     "data": {
      "text/plain": [
       "'From: sandipan.majhi.email@gmail.com'"
      ]
     },
     "execution_count": 160,
     "metadata": {},
     "output_type": "execute_result"
    }
   ],
   "source": [
    "bpe.decode([70,\n",
    " 610,\n",
    " 109,\n",
    " 58,\n",
    " 2720,\n",
    " 134605,\n",
    " 25522,\n",
    " 46,\n",
    " 12382,\n",
    " 106,\n",
    " 299,\n",
    " 46,\n",
    " 494,\n",
    " 17968,\n",
    " 108,\n",
    " 64,\n",
    " 103,\n",
    " 12382,\n",
    " 1807,\n",
    " 49936])"
   ]
  },
  {
   "cell_type": "code",
   "execution_count": null,
   "metadata": {},
   "outputs": [],
   "source": []
  }
 ],
 "metadata": {
  "kernelspec": {
   "display_name": "bpe",
   "language": "python",
   "name": "python3"
  },
  "language_info": {
   "codemirror_mode": {
    "name": "ipython",
    "version": 3
   },
   "file_extension": ".py",
   "mimetype": "text/x-python",
   "name": "python",
   "nbconvert_exporter": "python",
   "pygments_lexer": "ipython3",
   "version": "3.13.2"
  }
 },
 "nbformat": 4,
 "nbformat_minor": 2
}
