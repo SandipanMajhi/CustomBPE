{
 "cells": [
  {
   "cell_type": "code",
   "execution_count": 1,
   "metadata": {},
   "outputs": [],
   "source": [
    "from Model.BPE import BERTTokenizer"
   ]
  },
  {
   "cell_type": "code",
   "execution_count": 2,
   "metadata": {},
   "outputs": [],
   "source": [
    "t = \"From: sandipan.majhi.email@gmail.com\"\n",
    "bpe = BERTTokenizer(is_train=False)"
   ]
  },
  {
   "cell_type": "code",
   "execution_count": 3,
   "metadata": {},
   "outputs": [
    {
     "data": {
      "text/plain": [
       "[256,\n",
       " 70,\n",
       " 947,\n",
       " 109,\n",
       " 58,\n",
       " 1998,\n",
       " 78357,\n",
       " 112,\n",
       " 288,\n",
       " 46,\n",
       " 12738,\n",
       " 106,\n",
       " 285,\n",
       " 46,\n",
       " 360,\n",
       " 5505,\n",
       " 108,\n",
       " 92535]"
      ]
     },
     "execution_count": 3,
     "metadata": {},
     "output_type": "execute_result"
    }
   ],
   "source": [
    "bpe.encode(t)"
   ]
  },
  {
   "cell_type": "code",
   "execution_count": 5,
   "metadata": {},
   "outputs": [
    {
     "data": {
      "text/plain": [
       "'From: sandipan.majhi.email@gmail.com'"
      ]
     },
     "execution_count": 5,
     "metadata": {},
     "output_type": "execute_result"
    }
   ],
   "source": [
    "bpe.decode([256,\n",
    " 70,\n",
    " 947,\n",
    " 109,\n",
    " 58,\n",
    " 1998,\n",
    " 78357,\n",
    " 112,\n",
    " 288,\n",
    " 46,\n",
    " 12738,\n",
    " 106,\n",
    " 285,\n",
    " 46,\n",
    " 360,\n",
    " 5505,\n",
    " 108,\n",
    " 92535])"
   ]
  },
  {
   "cell_type": "code",
   "execution_count": 6,
   "metadata": {},
   "outputs": [
    {
     "data": {
      "text/plain": [
       "[256,\n",
       " 258,\n",
       " 947,\n",
       " 258,\n",
       " 58,\n",
       " 1998,\n",
       " 78357,\n",
       " 112,\n",
       " 288,\n",
       " 46,\n",
       " 12738,\n",
       " 106,\n",
       " 285,\n",
       " 46,\n",
       " 360,\n",
       " 5505,\n",
       " 108,\n",
       " 92535]"
      ]
     },
     "execution_count": 6,
     "metadata": {},
     "output_type": "execute_result"
    }
   ],
   "source": [
    "bpe.prepare_mlm_seq(text=t, mask_rate=0.15)"
   ]
  },
  {
   "cell_type": "code",
   "execution_count": 7,
   "metadata": {},
   "outputs": [
    {
     "data": {
      "text/plain": [
       "'<MASK>ro<MASK>: sandipan.majhi.email@gmail.com'"
      ]
     },
     "execution_count": 7,
     "metadata": {},
     "output_type": "execute_result"
    }
   ],
   "source": [
    "bpe.decode([256,\n",
    " 258,\n",
    " 947,\n",
    " 258,\n",
    " 58,\n",
    " 1998,\n",
    " 78357,\n",
    " 112,\n",
    " 288,\n",
    " 46,\n",
    " 12738,\n",
    " 106,\n",
    " 285,\n",
    " 46,\n",
    " 360,\n",
    " 5505,\n",
    " 108,\n",
    " 92535])"
   ]
  },
  {
   "cell_type": "code",
   "execution_count": 293,
   "metadata": {},
   "outputs": [],
   "source": [
    "import pickle as pkl\n",
    "\n",
    "with open(\"Data/bpe_vocab.pkl\", \"rb\") as f:\n",
    "    data = pkl.load(f)"
   ]
  },
  {
   "cell_type": "code",
   "execution_count": 294,
   "metadata": {},
   "outputs": [
    {
     "data": {
      "text/plain": [
       "100000"
      ]
     },
     "execution_count": 294,
     "metadata": {},
     "output_type": "execute_result"
    }
   ],
   "source": [
    "len(data)"
   ]
  },
  {
   "cell_type": "code",
   "execution_count": 295,
   "metadata": {},
   "outputs": [],
   "source": [
    "with open(\"Data/bpe_inverse_vocab.pkl\", \"rb\") as f:\n",
    "    vdata = pkl.load(f)"
   ]
  },
  {
   "cell_type": "code",
   "execution_count": 296,
   "metadata": {},
   "outputs": [
    {
     "data": {
      "text/plain": [
       "97332"
      ]
     },
     "execution_count": 296,
     "metadata": {},
     "output_type": "execute_result"
    }
   ],
   "source": [
    "len(vdata)"
   ]
  },
  {
   "cell_type": "code",
   "execution_count": null,
   "metadata": {},
   "outputs": [],
   "source": []
  }
 ],
 "metadata": {
  "kernelspec": {
   "display_name": "bpe",
   "language": "python",
   "name": "python3"
  },
  "language_info": {
   "codemirror_mode": {
    "name": "ipython",
    "version": 3
   },
   "file_extension": ".py",
   "mimetype": "text/x-python",
   "name": "python",
   "nbconvert_exporter": "python",
   "pygments_lexer": "ipython3",
   "version": "3.13.2"
  }
 },
 "nbformat": 4,
 "nbformat_minor": 2
}
